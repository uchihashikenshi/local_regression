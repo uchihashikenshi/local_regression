{
 "cells": [
  {
   "cell_type": "code",
   "execution_count": 1,
   "metadata": {
    "collapsed": false
   },
   "outputs": [
    {
     "name": "stdout",
     "output_type": "stream",
     "text": [
      "Populating the interactive namespace from numpy and matplotlib\n"
     ]
    }
   ],
   "source": [
    "%pylab inline\n",
    "%load_ext autoreload\n",
    "%autoreload 2\n",
    "import numpy as np\n",
    "import matplotlib.pyplot as plt\n",
    "import pandas as pd\n",
    "import sys\n",
    "import os\n",
    "project_path = os.getcwd() + '/../'\n",
    "sys.path.append(project_path + \"utils\")\n",
    "\n",
    "from sklearn.metrics import precision_recall_curve\n",
    "from sklearn.metrics import auc\n",
    "from sklearn.metrics import roc_curve\n",
    "from sklearn.grid_search import GridSearchCV\n",
    "from sklearn.externals import joblib\n",
    "import sklearn"
   ]
  },
  {
   "cell_type": "code",
   "execution_count": 2,
   "metadata": {
    "collapsed": true
   },
   "outputs": [],
   "source": [
    "import seaborn as sns"
   ]
  },
  {
   "cell_type": "code",
   "execution_count": 3,
   "metadata": {
    "collapsed": false
   },
   "outputs": [],
   "source": [
    "import function\n",
    "import preprocessing\n",
    "import local_bayes\n",
    "import visualize"
   ]
  },
  {
   "cell_type": "code",
   "execution_count": 4,
   "metadata": {
    "collapsed": true
   },
   "outputs": [],
   "source": [
    "sys.path.append(project_path + \"models/cnn\")"
   ]
  },
  {
   "cell_type": "markdown",
   "metadata": {},
   "source": [
    "# data load"
   ]
  },
  {
   "cell_type": "code",
   "execution_count": 5,
   "metadata": {
    "collapsed": true
   },
   "outputs": [],
   "source": [
    "import tarfile"
   ]
  },
  {
   "cell_type": "code",
   "execution_count": null,
   "metadata": {
    "collapsed": true
   },
   "outputs": [],
   "source": [
    "data_dir = "
   ]
  },
  {
   "cell_type": "code",
   "execution_count": null,
   "metadata": {
    "collapsed": true
   },
   "outputs": [],
   "source": [
    "data = tarfile.open(\"something.tar.gz\", \"r:gz\")"
   ]
  },
  {
   "cell_type": "code",
   "execution_count": null,
   "metadata": {
    "collapsed": true
   },
   "outputs": [],
   "source": []
  },
  {
   "cell_type": "code",
   "execution_count": null,
   "metadata": {
    "collapsed": true
   },
   "outputs": [],
   "source": []
  },
  {
   "cell_type": "code",
   "execution_count": null,
   "metadata": {
    "collapsed": true
   },
   "outputs": [],
   "source": []
  },
  {
   "cell_type": "code",
   "execution_count": 5,
   "metadata": {
    "collapsed": true
   },
   "outputs": [],
   "source": [
    "import data"
   ]
  },
  {
   "cell_type": "code",
   "execution_count": 7,
   "metadata": {
    "collapsed": false
   },
   "outputs": [
    {
     "name": "stdout",
     "output_type": "stream",
     "text": [
      "Downloading train-images-idx3-ubyte.gz...\n",
      "Done\n",
      "Downloading train-labels-idx1-ubyte.gz...\n",
      "Done\n",
      "Downloading t10k-images-idx3-ubyte.gz...\n",
      "Done\n",
      "Downloading t10k-labels-idx1-ubyte.gz...\n",
      "Done\n",
      "Converting training data...\n",
      "Done\n",
      "Converting test data...\n",
      "Done\n",
      "Save output...\n",
      "Done\n",
      "Convert completed\n"
     ]
    }
   ],
   "source": [
    "mnist = data.load_mnist_data()"
   ]
  },
  {
   "cell_type": "code",
   "execution_count": 9,
   "metadata": {
    "collapsed": false
   },
   "outputs": [],
   "source": [
    "with open('../data/mnist/mnist.pkl', 'rb') as mnist_pickle:\n",
    "        mnist = six.moves.cPickle.load(mnist_pickle)\n",
    "mnist['data'] = mnist['data'].astype(np.float32)\n",
    "mnist['data'] /= 255\n",
    "mnist['target'] = mnist['target'].astype(np.int32)\n",
    "\n",
    "N = 60000\n",
    "train_x, test_x = np.split(mnist['data'],   [N])\n",
    "train_y, test_y = np.split(mnist['target'], [N])"
   ]
  },
  {
   "cell_type": "markdown",
   "metadata": {},
   "source": [
    "# model training"
   ]
  },
  {
   "cell_type": "code",
   "execution_count": 10,
   "metadata": {
    "collapsed": false
   },
   "outputs": [],
   "source": [
    "import cnn"
   ]
  },
  {
   "cell_type": "code",
   "execution_count": 12,
   "metadata": {
    "collapsed": false
   },
   "outputs": [],
   "source": [
    "epoch_num = 50\n",
    "batchsize = 100\n",
    "save_model_dir = \"../models/cnn/results/epoch_num=%s_batchsize=%s/\" % (epoch_num, batchsize)\n",
    "os.mkdir(\"../models/cnn/results/epoch_num=%s_batchsize=%s/\" % (epoch_num, batchsize))\n",
    "cnntrain = cnn.CNN(save_model_dir=save_model_dir, epoch_num=epoch_num, batchsize=batchsize)"
   ]
  },
  {
   "cell_type": "code",
   "execution_count": 14,
   "metadata": {
    "collapsed": false
   },
   "outputs": [
    {
     "name": "stdout",
     "output_type": "stream",
     "text": [
      "epoch 1\n",
      "graph generated\n",
      "train mean loss=0.195507549153, accuracy=0.941250002111, throughput=1830.80768473 images/sec\n",
      "test  mean loss=0.101044457252, accuracy=0.968600004315\n",
      "epoch 2\n",
      "train mean loss=0.0738388801432, accuracy=0.976733342806, throughput=1863.67977963 images/sec\n",
      "test  mean loss=0.0798496674007, accuracy=0.974300006032\n",
      "epoch 3\n",
      "train mean loss=0.047252735476, accuracy=0.985583344301, throughput=1638.5741305 images/sec\n",
      "test  mean loss=0.0805051904317, accuracy=0.975800006986\n",
      "epoch 4\n",
      "train mean loss=0.0372457244287, accuracy=0.987850009302, throughput=1736.40815562 images/sec\n",
      "test  mean loss=0.0739178641725, accuracy=0.976800005436\n",
      "epoch 5\n",
      "train mean loss=0.0306223852178, accuracy=0.98975000908, throughput=1765.35241085 images/sec\n",
      "test  mean loss=0.0725455605884, accuracy=0.979800004959\n",
      "epoch 6\n",
      "train mean loss=0.0221285714852, accuracy=0.992850006521, throughput=1747.42762981 images/sec\n",
      "test  mean loss=0.0741524473285, accuracy=0.981200004816\n",
      "epoch 7\n",
      "train mean loss=0.0225197205492, accuracy=0.992533339759, throughput=1720.66262863 images/sec\n",
      "test  mean loss=0.0728135399967, accuracy=0.981500009298\n",
      "epoch 8\n",
      "train mean loss=0.0196965699084, accuracy=0.99391667217, throughput=1695.98995581 images/sec\n",
      "test  mean loss=0.0907490554195, accuracy=0.979400006533\n",
      "epoch 9\n",
      "train mean loss=0.0163914525626, accuracy=0.994366672039, throughput=1659.26885995 images/sec\n",
      "test  mean loss=0.0993392831814, accuracy=0.977300005555\n",
      "epoch 10\n",
      "train mean loss=0.0168614757293, accuracy=0.994400005142, throughput=1480.68968803 images/sec\n",
      "test  mean loss=0.0983006652272, accuracy=0.977300004959\n",
      "epoch 11\n",
      "train mean loss=0.014465134606, accuracy=0.995533337394, throughput=1438.91834666 images/sec\n",
      "test  mean loss=0.0903185548941, accuracy=0.980500007868\n",
      "epoch 12\n",
      "train mean loss=0.0105121057305, accuracy=0.996900002956, throughput=1543.60082083 images/sec\n",
      "test  mean loss=0.100451613265, accuracy=0.980500007868\n",
      "epoch 13\n",
      "train mean loss=0.0146079577608, accuracy=0.9956333372, throughput=1501.76734894 images/sec\n",
      "test  mean loss=0.0889329338954, accuracy=0.981100005507\n",
      "epoch 14\n",
      "train mean loss=0.00540693681714, accuracy=0.998116668463, throughput=1463.61957234 images/sec\n",
      "test  mean loss=0.0917408924566, accuracy=0.982200006843\n",
      "epoch 15\n",
      "train mean loss=0.00962724815714, accuracy=0.997216669321, throughput=1520.83066096 images/sec\n",
      "test  mean loss=0.0915263511182, accuracy=0.981200008392\n",
      "epoch 16\n",
      "train mean loss=0.0128660743847, accuracy=0.99653333654, throughput=1515.8323794 images/sec\n",
      "test  mean loss=0.100675832903, accuracy=0.979000006914\n",
      "epoch 17\n",
      "train mean loss=0.00874435327982, accuracy=0.997350002527, throughput=1476.81965233 images/sec\n",
      "test  mean loss=0.093512527553, accuracy=0.981500005722\n",
      "epoch 18\n",
      "train mean loss=0.0130737623905, accuracy=0.996183336973, throughput=1288.37196037 images/sec\n",
      "test  mean loss=0.102114123705, accuracy=0.980700009465\n",
      "epoch 19\n",
      "train mean loss=0.00725050116353, accuracy=0.998000001907, throughput=1255.91038951 images/sec\n",
      "test  mean loss=0.0829739857327, accuracy=0.98460000813\n",
      "epoch 20\n",
      "train mean loss=0.00585455085249, accuracy=0.998350001574, throughput=1250.50674549 images/sec\n",
      "test  mean loss=0.0998196421913, accuracy=0.982900009155\n",
      "epoch 21\n",
      "train mean loss=0.0108950301266, accuracy=0.99718333602, throughput=1221.85094944 images/sec\n",
      "test  mean loss=0.0874412629704, accuracy=0.984500010014\n",
      "epoch 22\n",
      "train mean loss=0.00908007719252, accuracy=0.997533335686, throughput=1190.81335065 images/sec\n",
      "test  mean loss=0.104034488992, accuracy=0.981800005436\n",
      "epoch 23\n",
      "train mean loss=0.0108037918495, accuracy=0.997216669321, throughput=1156.76933476 images/sec\n",
      "test  mean loss=0.126236685385, accuracy=0.980400007367\n",
      "epoch 24\n",
      "train mean loss=0.00504072669794, accuracy=0.998366668224, throughput=1154.51146056 images/sec\n",
      "test  mean loss=0.105656568095, accuracy=0.984400006533\n",
      "epoch 25\n",
      "train mean loss=0.00352042667746, accuracy=0.998950001001, throughput=1158.68090857 images/sec\n",
      "test  mean loss=0.116494699808, accuracy=0.983600008488\n",
      "epoch 26\n",
      "train mean loss=0.00903593415529, accuracy=0.997766668697, throughput=1066.01883084 images/sec\n",
      "test  mean loss=0.131710005477, accuracy=0.980600007772\n",
      "epoch 27\n",
      "train mean loss=0.00853515329315, accuracy=0.997700002193, throughput=1032.87197775 images/sec\n",
      "test  mean loss=0.123413922556, accuracy=0.984100008011\n",
      "epoch 28\n",
      "train mean loss=0.00903097282819, accuracy=0.998000001907, throughput=1070.77495844 images/sec\n",
      "test  mean loss=0.118435046048, accuracy=0.984000006914\n",
      "epoch 29\n",
      "train mean loss=0.0057649456692, accuracy=0.998566668034, throughput=1075.70260668 images/sec\n",
      "test  mean loss=0.170539972886, accuracy=0.976400007606\n",
      "epoch 30\n",
      "train mean loss=0.00943328257337, accuracy=0.997583335439, throughput=1044.90387255 images/sec\n",
      "test  mean loss=0.114844707587, accuracy=0.983500009179\n",
      "epoch 31\n",
      "train mean loss=0.00773121965176, accuracy=0.99828333497, throughput=1046.05745541 images/sec\n",
      "test  mean loss=0.141308370041, accuracy=0.980400009751\n",
      "epoch 32\n",
      "train mean loss=0.00369562581581, accuracy=0.999016667604, throughput=1041.96109264 images/sec\n",
      "test  mean loss=0.153434647845, accuracy=0.979900007248\n",
      "epoch 33\n",
      "train mean loss=0.00946938867253, accuracy=0.997433335682, throughput=1041.55818923 images/sec\n",
      "test  mean loss=0.125225177372, accuracy=0.985200006962\n",
      "epoch 34\n",
      "train mean loss=0.00465174678163, accuracy=0.998900001049, throughput=1052.03168299 images/sec\n",
      "test  mean loss=0.139737446106, accuracy=0.981900007129\n",
      "epoch 35\n",
      "train mean loss=0.00923149887114, accuracy=0.997916668653, throughput=1027.48225593 images/sec\n",
      "test  mean loss=0.126513934514, accuracy=0.984000008106\n",
      "epoch 36\n",
      "train mean loss=0.00484737264047, accuracy=0.998966667652, throughput=1047.9873586 images/sec\n",
      "test  mean loss=0.137793944169, accuracy=0.9836000067\n",
      "epoch 37\n",
      "train mean loss=0.00456023954597, accuracy=0.998850001097, throughput=1005.44320297 images/sec\n",
      "test  mean loss=0.152625119644, accuracy=0.982600008249\n",
      "epoch 38\n",
      "train mean loss=0.00972164981686, accuracy=0.997516669035, throughput=1012.87629301 images/sec\n",
      "test  mean loss=0.151397229776, accuracy=0.983500007987\n",
      "epoch 39\n",
      "train mean loss=0.00432129925886, accuracy=0.998866667747, throughput=990.328173189 images/sec\n",
      "test  mean loss=0.164536610029, accuracy=0.982000007629\n",
      "epoch 40\n",
      "train mean loss=0.00669101330704, accuracy=0.998216668367, throughput=933.459215327 images/sec\n",
      "test  mean loss=0.155954106188, accuracy=0.980700008273\n",
      "epoch 41\n",
      "train mean loss=0.00896642158222, accuracy=0.998033335209, throughput=953.106253555 images/sec\n",
      "test  mean loss=0.141014814807, accuracy=0.983600007892\n",
      "epoch 42\n",
      "train mean loss=0.00332493174562, accuracy=0.999216667414, throughput=971.445933192 images/sec\n",
      "test  mean loss=0.16124495651, accuracy=0.982800005078\n",
      "epoch 43\n",
      "train mean loss=0.00883442212815, accuracy=0.997916668653, throughput=1099.93679231 images/sec\n",
      "test  mean loss=0.183982490038, accuracy=0.980900008082\n",
      "epoch 44\n",
      "train mean loss=0.00733029978982, accuracy=0.998416668177, throughput=1104.01306379 images/sec\n",
      "test  mean loss=0.143411404213, accuracy=0.98310000658\n",
      "epoch 45\n",
      "train mean loss=0.00302615731978, accuracy=0.999116667509, throughput=1065.5340183 images/sec\n",
      "test  mean loss=0.139765295678, accuracy=0.986400008202\n",
      "epoch 46\n",
      "train mean loss=0.00519419975802, accuracy=0.998966667652, throughput=1081.3223423 images/sec\n",
      "test  mean loss=0.136793401821, accuracy=0.984600006938\n",
      "epoch 47\n",
      "train mean loss=0.00251494872994, accuracy=0.999550000429, throughput=1045.25511996 images/sec\n",
      "test  mean loss=0.187348984539, accuracy=0.981800006628\n",
      "epoch 48\n",
      "train mean loss=0.00760303038385, accuracy=0.99826666832, throughput=1012.8565951 images/sec\n",
      "test  mean loss=0.204306087269, accuracy=0.979800004959\n",
      "epoch 49\n",
      "train mean loss=0.010715093778, accuracy=0.997900002003, throughput=1018.65175498 images/sec\n",
      "test  mean loss=0.146305219222, accuracy=0.984300008416\n",
      "epoch 50\n",
      "train mean loss=0.00300968960041, accuracy=0.999300000668, throughput=1028.67362559 images/sec\n",
      "test  mean loss=0.182745964461, accuracy=0.98090000689\n",
      "save the model\n",
      "save the optimizer\n"
     ]
    }
   ],
   "source": [
    "cnntrain.train(train_x, train_y, test_x, test_y)"
   ]
  },
  {
   "cell_type": "code",
   "execution_count": 35,
   "metadata": {
    "collapsed": false
   },
   "outputs": [
    {
     "ename": "IOError",
     "evalue": "[Errno 2] No such file or directory: '../data/bookmark/ajax_30/0_test/0_fold/0_train.npz'",
     "output_type": "error",
     "traceback": [
      "\u001b[0;31m---------------------------------------------------------------------------\u001b[0m",
      "\u001b[0;31mIOError\u001b[0m                                   Traceback (most recent call last)",
      "\u001b[0;32m<ipython-input-35-4be81518caf5>\u001b[0m in \u001b[0;36m<module>\u001b[0;34m()\u001b[0m\n\u001b[1;32m      3\u001b[0m \u001b[0msave_model_dir\u001b[0m \u001b[0;34m=\u001b[0m \u001b[0;34m\"../models/cnn/results/ajax_%s_30/\"\u001b[0m \u001b[0;34m%\u001b[0m \u001b[0mepoch_num\u001b[0m\u001b[0;34m\u001b[0m\u001b[0m\n\u001b[1;32m      4\u001b[0m \u001b[0mos\u001b[0m\u001b[0;34m.\u001b[0m\u001b[0mmkdir\u001b[0m\u001b[0;34m(\u001b[0m\u001b[0;34m\"../models/cnn/results/ajax_%s_30\"\u001b[0m \u001b[0;34m%\u001b[0m \u001b[0mepoch_num\u001b[0m\u001b[0;34m)\u001b[0m\u001b[0;34m\u001b[0m\u001b[0m\n\u001b[0;32m----> 5\u001b[0;31m \u001b[0mtrain_0_0_30\u001b[0m \u001b[0;34m=\u001b[0m \u001b[0mnumpy\u001b[0m\u001b[0;34m.\u001b[0m\u001b[0mload\u001b[0m\u001b[0;34m(\u001b[0m\u001b[0msave_data_dir\u001b[0m \u001b[0;34m+\u001b[0m \u001b[0;34m'0_test/0_fold/0_train.npz'\u001b[0m\u001b[0;34m)\u001b[0m\u001b[0;34m\u001b[0m\u001b[0m\n\u001b[0m\u001b[1;32m      6\u001b[0m \u001b[0mtest_0_0_30\u001b[0m \u001b[0;34m=\u001b[0m \u001b[0mnumpy\u001b[0m\u001b[0;34m.\u001b[0m\u001b[0mload\u001b[0m\u001b[0;34m(\u001b[0m\u001b[0msave_data_dir\u001b[0m \u001b[0;34m+\u001b[0m \u001b[0;34m'0_test/0_fold/0_test.npz'\u001b[0m\u001b[0;34m)\u001b[0m\u001b[0;34m\u001b[0m\u001b[0m\n\u001b[1;32m      7\u001b[0m \u001b[0mcnntrain\u001b[0m \u001b[0;34m=\u001b[0m \u001b[0mcnn\u001b[0m\u001b[0;34m.\u001b[0m\u001b[0mCNN\u001b[0m\u001b[0;34m(\u001b[0m\u001b[0msave_model_dir\u001b[0m\u001b[0;34m=\u001b[0m\u001b[0msave_model_dir\u001b[0m\u001b[0;34m,\u001b[0m \u001b[0mepoch_num\u001b[0m\u001b[0;34m=\u001b[0m\u001b[0mepoch_num\u001b[0m\u001b[0;34m)\u001b[0m\u001b[0;34m\u001b[0m\u001b[0m\n",
      "\u001b[0;32m/Users/admin/Desktop/anaconda/lib/python2.7/site-packages/numpy/lib/npyio.pyc\u001b[0m in \u001b[0;36mload\u001b[0;34m(file, mmap_mode, allow_pickle, fix_imports, encoding)\u001b[0m\n\u001b[1;32m    360\u001b[0m     \u001b[0mown_fid\u001b[0m \u001b[0;34m=\u001b[0m \u001b[0mFalse\u001b[0m\u001b[0;34m\u001b[0m\u001b[0m\n\u001b[1;32m    361\u001b[0m     \u001b[0;32mif\u001b[0m \u001b[0misinstance\u001b[0m\u001b[0;34m(\u001b[0m\u001b[0mfile\u001b[0m\u001b[0;34m,\u001b[0m \u001b[0mbasestring\u001b[0m\u001b[0;34m)\u001b[0m\u001b[0;34m:\u001b[0m\u001b[0;34m\u001b[0m\u001b[0m\n\u001b[0;32m--> 362\u001b[0;31m         \u001b[0mfid\u001b[0m \u001b[0;34m=\u001b[0m \u001b[0mopen\u001b[0m\u001b[0;34m(\u001b[0m\u001b[0mfile\u001b[0m\u001b[0;34m,\u001b[0m \u001b[0;34m\"rb\"\u001b[0m\u001b[0;34m)\u001b[0m\u001b[0;34m\u001b[0m\u001b[0m\n\u001b[0m\u001b[1;32m    363\u001b[0m         \u001b[0mown_fid\u001b[0m \u001b[0;34m=\u001b[0m \u001b[0mTrue\u001b[0m\u001b[0;34m\u001b[0m\u001b[0m\n\u001b[1;32m    364\u001b[0m     \u001b[0;32melse\u001b[0m\u001b[0;34m:\u001b[0m\u001b[0;34m\u001b[0m\u001b[0m\n",
      "\u001b[0;31mIOError\u001b[0m: [Errno 2] No such file or directory: '../data/bookmark/ajax_30/0_test/0_fold/0_train.npz'"
     ]
    }
   ],
   "source": [
    "epoch_num = 50\n",
    "save_data_dir = '../data/bookmark/ajax_30/'\n",
    "save_model_dir = \"../models/cnn/results/ajax_%s_30/\" % epoch_num\n",
    "os.mkdir(\"../models/cnn/results/ajax_%s_30\" % epoch_num)\n",
    "train_0_0_30 = numpy.load(save_data_dir + '0_test/0_fold/0_train.npz')\n",
    "test_0_0_30 = numpy.load(save_data_dir + '0_test/0_fold/0_test.npz')\n",
    "cnntrain = cnn.CNN(save_model_dir=save_model_dir, epoch_num=epoch_num)"
   ]
  },
  {
   "cell_type": "code",
   "execution_count": 57,
   "metadata": {
    "collapsed": false
   },
   "outputs": [
    {
     "data": {
      "text/plain": [
       "(2168, 30)"
      ]
     },
     "execution_count": 57,
     "metadata": {},
     "output_type": "execute_result"
    }
   ],
   "source": [
    "train_0_0_30['x'].shape"
   ]
  },
  {
   "cell_type": "code",
   "execution_count": 58,
   "metadata": {
    "collapsed": false
   },
   "outputs": [
    {
     "name": "stdout",
     "output_type": "stream",
     "text": [
      "epoch 1\n",
      "graph generated\n",
      "train mean loss=0.856766545025, accuracy=0.749077491297, throughput=915.436561686 images/sec\n",
      "test  mean loss=0.770515868255, accuracy=0.769372691967\n",
      "epoch 2\n",
      "train mean loss=0.513243945982, accuracy=0.783671582042, throughput=951.976112163 images/sec\n",
      "test  mean loss=0.517006267701, accuracy=0.7822878176\n",
      "epoch 3\n",
      "train mean loss=0.412609556917, accuracy=0.818265679633, throughput=1027.25791076 images/sec\n",
      "test  mean loss=0.451953402415, accuracy=0.789667895359\n",
      "epoch 4\n",
      "train mean loss=0.374739015839, accuracy=0.839022137032, throughput=1065.5489713 images/sec\n",
      "test  mean loss=0.436411118925, accuracy=0.813653138291\n",
      "epoch 5\n",
      "train mean loss=0.350621334466, accuracy=0.845479698474, throughput=1073.68401146 images/sec\n",
      "test  mean loss=0.52345504488, accuracy=0.789667890521\n",
      "epoch 6\n",
      "train mean loss=0.344226040468, accuracy=0.855166042038, throughput=1046.9965709 images/sec\n",
      "test  mean loss=0.429894789449, accuracy=0.800738004301\n",
      "epoch 7\n",
      "train mean loss=0.33875343829, accuracy=0.862084867385, throughput=1015.72357354 images/sec\n",
      "test  mean loss=0.412158502644, accuracy=0.821033207253\n",
      "epoch 8\n",
      "train mean loss=0.387984358503, accuracy=0.85839482867, throughput=918.100958835 images/sec\n",
      "test  mean loss=0.47232382093, accuracy=0.80442804604\n",
      "epoch 9\n",
      "train mean loss=0.378557457145, accuracy=0.851937265579, throughput=885.715734301 images/sec\n",
      "test  mean loss=0.444306295406, accuracy=0.824723232936\n",
      "epoch 10\n",
      "train mean loss=0.283775664619, accuracy=0.880535054361, throughput=942.945645605 images/sec\n",
      "test  mean loss=0.417758366169, accuracy=0.837638371105\n",
      "epoch 11\n",
      "train mean loss=0.259280933322, accuracy=0.89391143653, throughput=926.464515443 images/sec\n",
      "test  mean loss=0.358241843341, accuracy=0.841328402947\n",
      "epoch 12\n",
      "train mean loss=0.234868569169, accuracy=0.900830253794, throughput=1028.61968683 images/sec\n",
      "test  mean loss=0.507463369862, accuracy=0.837638376604\n",
      "epoch 13\n",
      "train mean loss=0.25201322218, accuracy=0.901291513465, throughput=1035.25449981 images/sec\n",
      "test  mean loss=0.391271840107, accuracy=0.856088552968\n",
      "epoch 14\n",
      "train mean loss=0.201800770137, accuracy=0.929889297023, throughput=1076.82464182 images/sec\n",
      "test  mean loss=0.338744929906, accuracy=0.872693719019\n",
      "epoch 15\n",
      "train mean loss=0.175959330506, accuracy=0.940959408714, throughput=1017.18131794 images/sec\n",
      "test  mean loss=0.379644148189, accuracy=0.872693719019\n",
      "epoch 16\n",
      "train mean loss=0.144071818058, accuracy=0.952952035899, throughput=1028.9198577 images/sec\n",
      "test  mean loss=0.27301567386, accuracy=0.89298892791\n",
      "epoch 17\n",
      "train mean loss=0.121375391658, accuracy=0.96263837149, throughput=1044.11131644 images/sec\n",
      "test  mean loss=0.313754887983, accuracy=0.900368998631\n",
      "epoch 18\n",
      "train mean loss=0.135598186823, accuracy=0.955719560275, throughput=1001.26363756 images/sec\n",
      "test  mean loss=0.301678438468, accuracy=0.876383757899\n",
      "epoch 19\n",
      "train mean loss=0.342763503409, accuracy=0.913745385034, throughput=944.463591794 images/sec\n",
      "test  mean loss=0.634856480404, accuracy=0.822878226583\n",
      "epoch 20\n",
      "train mean loss=0.27548169368, accuracy=0.911900367794, throughput=1038.27051858 images/sec\n",
      "test  mean loss=0.382006929809, accuracy=0.857933571858\n",
      "epoch 21\n",
      "train mean loss=0.14307171793, accuracy=0.959409592281, throughput=1036.37493193 images/sec\n",
      "test  mean loss=0.369163039701, accuracy=0.900369000171\n",
      "epoch 22\n",
      "train mean loss=0.109372299457, accuracy=0.970940962379, throughput=1022.27413143 images/sec\n",
      "test  mean loss=0.291186727913, accuracy=0.898523972483\n",
      "epoch 23\n",
      "train mean loss=0.0816742836333, accuracy=0.979704798533, throughput=1015.85678971 images/sec\n",
      "test  mean loss=0.299775170747, accuracy=0.894833937562\n",
      "epoch 24\n",
      "train mean loss=0.0620220541332, accuracy=0.984317348507, throughput=1005.11364357 images/sec\n",
      "test  mean loss=0.291162105339, accuracy=0.902214026319\n",
      "epoch 25\n",
      "train mean loss=0.0488085893904, accuracy=0.988929893698, throughput=1000.26301934 images/sec\n",
      "test  mean loss=0.285996560598, accuracy=0.905904055741\n",
      "epoch 26\n",
      "train mean loss=0.0387496368657, accuracy=0.993542440208, throughput=950.269561866 images/sec\n",
      "test  mean loss=0.252274867986, accuracy=0.911439111312\n",
      "epoch 27\n",
      "train mean loss=0.0329400523268, accuracy=0.994464947179, throughput=1024.49239533 images/sec\n",
      "test  mean loss=0.317164113821, accuracy=0.902214015322\n",
      "epoch 28\n",
      "train mean loss=0.0288214053936, accuracy=0.994926202726, throughput=1013.755848 images/sec\n",
      "test  mean loss=0.256769498075, accuracy=0.915129153491\n",
      "epoch 29\n",
      "train mean loss=0.0227315102169, accuracy=0.998154983309, throughput=983.747259772 images/sec\n",
      "test  mean loss=0.289320497152, accuracy=0.907749076391\n",
      "epoch 30\n",
      "train mean loss=0.0191104069792, accuracy=0.998154983309, throughput=1016.01399341 images/sec\n",
      "test  mean loss=0.265746846781, accuracy=0.909594087583\n",
      "epoch 31\n",
      "train mean loss=0.0155825323216, accuracy=0.999077491655, throughput=982.206605284 images/sec\n",
      "test  mean loss=0.290145035201, accuracy=0.911439109772\n",
      "epoch 32\n",
      "train mean loss=0.0126362345684, accuracy=0.999538745827, throughput=980.556665617 images/sec\n",
      "test  mean loss=0.324494488194, accuracy=0.909594086923\n",
      "epoch 33\n",
      "train mean loss=0.0114416033876, accuracy=0.999538745827, throughput=1028.83929834 images/sec\n",
      "test  mean loss=0.357428561992, accuracy=0.907749070233\n",
      "epoch 34\n",
      "train mean loss=0.0091096583908, accuracy=1.0, throughput=992.904100647 images/sec\n",
      "test  mean loss=0.344467441026, accuracy=0.909594086923\n",
      "epoch 35\n",
      "train mean loss=0.00825626837202, accuracy=1.0, throughput=967.216805133 images/sec\n",
      "test  mean loss=0.392575225308, accuracy=0.905904053542\n",
      "epoch 36\n",
      "train mean loss=0.00661120377288, accuracy=1.0, throughput=930.58868645 images/sec\n",
      "test  mean loss=0.422458030118, accuracy=0.907749070233\n",
      "epoch 37\n",
      "train mean loss=0.0060423160712, accuracy=1.0, throughput=652.488480735 images/sec\n",
      "test  mean loss=0.438835909061, accuracy=0.905904059041\n",
      "epoch 38\n",
      "train mean loss=0.00505457540561, accuracy=1.0, throughput=644.050816352 images/sec\n",
      "test  mean loss=0.426733645662, accuracy=0.907749070233\n",
      "epoch 39\n",
      "train mean loss=0.00428407505838, accuracy=1.0, throughput=706.346046253 images/sec\n",
      "test  mean loss=0.477386939432, accuracy=0.905904053542\n",
      "epoch 40\n",
      "train mean loss=0.0038393277191, accuracy=1.0, throughput=717.611357849 images/sec\n",
      "test  mean loss=0.460033811313, accuracy=0.907749070233\n",
      "epoch 41\n",
      "train mean loss=0.0034862875259, accuracy=1.0, throughput=869.202294677 images/sec\n",
      "test  mean loss=0.463948878154, accuracy=0.907749070233\n",
      "epoch 42\n",
      "train mean loss=0.00308880806063, accuracy=1.0, throughput=878.113951767 images/sec\n",
      "test  mean loss=0.447139227055, accuracy=0.905904048043\n",
      "epoch 43\n",
      "train mean loss=0.00275458988705, accuracy=1.0, throughput=911.598085867 images/sec\n",
      "test  mean loss=0.489619941069, accuracy=0.904059031353\n",
      "epoch 44\n",
      "train mean loss=0.00254727452812, accuracy=1.0, throughput=896.075113322 images/sec\n",
      "test  mean loss=0.528863804559, accuracy=0.905904053542\n",
      "epoch 45\n",
      "train mean loss=0.00227512874887, accuracy=1.0, throughput=831.225867715 images/sec\n",
      "test  mean loss=0.531628537208, accuracy=0.905904053542\n",
      "epoch 46\n",
      "train mean loss=0.00208247544839, accuracy=1.0, throughput=856.198826231 images/sec\n",
      "test  mean loss=0.482948404946, accuracy=0.904059031353\n",
      "epoch 47\n",
      "train mean loss=0.00194871290312, accuracy=1.0, throughput=860.675672987 images/sec\n",
      "test  mean loss=0.51363399897, accuracy=0.904059031353\n",
      "epoch 48\n",
      "train mean loss=0.00174419981928, accuracy=1.0, throughput=796.549264112 images/sec\n",
      "test  mean loss=0.476890806315, accuracy=0.904059031353\n",
      "epoch 49\n",
      "train mean loss=0.00161807563649, accuracy=1.0, throughput=773.248457096 images/sec\n",
      "test  mean loss=0.544759903419, accuracy=0.905904053542\n",
      "epoch 50\n",
      "train mean loss=0.00146194438603, accuracy=1.0, throughput=784.021328792 images/sec\n",
      "test  mean loss=0.538385951775, accuracy=0.905904053542\n",
      "save the model\n",
      "save the optimizer\n"
     ]
    }
   ],
   "source": [
    "cnntrain.train(train_0_0_30, test_0_0_30)"
   ]
  },
  {
   "cell_type": "code",
   "execution_count": 59,
   "metadata": {
    "collapsed": true
   },
   "outputs": [],
   "source": [
    "epoch_num = 50\n",
    "save_data_dir = '../data/bookmark/ajax_60/'\n",
    "save_model_dir = \"../models/cnn/results/ajax_%s_60/\" % epoch_num\n",
    "os.mkdir(\"../models/cnn/results/ajax_%s_60\" % epoch_num)\n",
    "train_0_0_60 = numpy.load(save_data_dir + '0_test/0_fold/0_train.npz')\n",
    "test_0_0_60 = numpy.load(save_data_dir + '0_test/0_fold/0_test.npz')\n",
    "cnntrain = cnn.CNN(save_model_dir=save_model_dir, epoch_num=epoch_num)"
   ]
  },
  {
   "cell_type": "code",
   "execution_count": 60,
   "metadata": {
    "collapsed": false
   },
   "outputs": [
    {
     "data": {
      "text/plain": [
       "(1456, 30)"
      ]
     },
     "execution_count": 60,
     "metadata": {},
     "output_type": "execute_result"
    }
   ],
   "source": [
    "train_0_0_60['x'].shape"
   ]
  },
  {
   "cell_type": "code",
   "execution_count": 61,
   "metadata": {
    "collapsed": false
   },
   "outputs": [
    {
     "name": "stdout",
     "output_type": "stream",
     "text": [
      "epoch 1\n",
      "graph generated\n",
      "train mean loss=0.756237555234, accuracy=0.770604389505, throughput=414.482740029 images/sec\n",
      "test  mean loss=0.714041425916, accuracy=0.834710748728\n",
      "epoch 2\n",
      "train mean loss=0.495513381518, accuracy=0.840659337139, throughput=712.392200358 images/sec\n",
      "test  mean loss=0.427742324174, accuracy=0.867768587324\n",
      "epoch 3\n",
      "train mean loss=0.323671543909, accuracy=0.870879124563, throughput=818.748929825 images/sec\n",
      "test  mean loss=0.292671098484, accuracy=0.895316805721\n",
      "epoch 4\n",
      "train mean loss=0.295001422024, accuracy=0.886675816889, throughput=917.035975479 images/sec\n",
      "test  mean loss=0.380116275981, accuracy=0.887052334373\n",
      "epoch 5\n",
      "train mean loss=0.34921425846, accuracy=0.860576918901, throughput=952.15286567 images/sec\n",
      "test  mean loss=0.473161475687, accuracy=0.878787879445\n",
      "epoch 6\n",
      "train mean loss=0.262986373893, accuracy=0.901098895122, throughput=911.876287539 images/sec\n",
      "test  mean loss=0.245746021572, accuracy=0.925619831755\n",
      "epoch 7\n",
      "train mean loss=0.208810764692, accuracy=0.916895602594, throughput=920.388372154 images/sec\n",
      "test  mean loss=0.393923745586, accuracy=0.914600550307\n",
      "epoch 8\n",
      "train mean loss=0.202058797293, accuracy=0.92857142022, throughput=963.477784216 images/sec\n",
      "test  mean loss=0.198863292693, accuracy=0.925619823545\n",
      "epoch 9\n",
      "train mean loss=0.168729668944, accuracy=0.932692302289, throughput=975.143850528 images/sec\n",
      "test  mean loss=0.240055524552, accuracy=0.911845731998\n",
      "epoch 10\n",
      "train mean loss=0.151593146252, accuracy=0.942307694109, throughput=1070.48904305 images/sec\n",
      "test  mean loss=0.17281879302, accuracy=0.944903568131\n",
      "epoch 11\n",
      "train mean loss=0.130145330402, accuracy=0.953983515337, throughput=1046.46115663 images/sec\n",
      "test  mean loss=0.175777991818, accuracy=0.928374658275\n",
      "epoch 12\n",
      "train mean loss=0.118384300639, accuracy=0.961538463422, throughput=1029.36310728 images/sec\n",
      "test  mean loss=0.182373861123, accuracy=0.920110195136\n",
      "epoch 13\n",
      "train mean loss=0.100783387782, accuracy=0.971153849101, throughput=974.889798254 images/sec\n",
      "test  mean loss=0.1860716614, accuracy=0.939393931512\n",
      "epoch 14\n",
      "train mean loss=0.129506698886, accuracy=0.958791211247, throughput=1013.43079765 images/sec\n",
      "test  mean loss=0.28037803031, accuracy=0.906336078959\n",
      "epoch 15\n",
      "train mean loss=0.106737403823, accuracy=0.964285709455, throughput=1032.91712536 images/sec\n",
      "test  mean loss=0.177208198604, accuracy=0.933884286683\n",
      "epoch 16\n",
      "train mean loss=0.465071683059, accuracy=0.937499994105, throughput=1024.84049013 images/sec\n",
      "test  mean loss=0.348406366162, accuracy=0.909090905479\n",
      "epoch 17\n",
      "train mean loss=0.154234437078, accuracy=0.949862631959, throughput=998.054625654 images/sec\n",
      "test  mean loss=0.244824408813, accuracy=0.933884294893\n",
      "epoch 18\n",
      "train mean loss=0.0919199078804, accuracy=0.971840667774, throughput=1010.88361451 images/sec\n",
      "test  mean loss=0.134991908415, accuracy=0.955922865999\n",
      "epoch 19\n",
      "train mean loss=0.0626379916787, accuracy=0.984203299487, throughput=877.400244159 images/sec\n",
      "test  mean loss=0.143783038231, accuracy=0.95316803948\n",
      "epoch 20\n",
      "train mean loss=0.053088265223, accuracy=0.990384620461, throughput=1028.20053972 images/sec\n",
      "test  mean loss=0.129740971469, accuracy=0.966942147447\n",
      "epoch 21\n",
      "train mean loss=0.0422168587882, accuracy=0.992445059366, throughput=1039.38748624 images/sec\n",
      "test  mean loss=0.144000704836, accuracy=0.95316804769\n",
      "epoch 22\n",
      "train mean loss=0.0364752660331, accuracy=0.994505497699, throughput=1000.52306252 images/sec\n",
      "test  mean loss=0.19244313278, accuracy=0.958677676098\n",
      "epoch 23\n",
      "train mean loss=0.0273363365201, accuracy=0.997252747826, throughput=1037.79233266 images/sec\n",
      "test  mean loss=0.205031831736, accuracy=0.95316804769\n",
      "epoch 24\n",
      "train mean loss=0.0289057928264, accuracy=0.995192312277, throughput=1004.8987918 images/sec\n",
      "test  mean loss=0.131666818933, accuracy=0.961432502618\n",
      "epoch 25\n",
      "train mean loss=0.0226700258234, accuracy=0.996565937341, throughput=668.052670966 images/sec\n",
      "test  mean loss=0.143265300921, accuracy=0.961432494408\n",
      "epoch 26\n",
      "train mean loss=0.0153238304889, accuracy=0.998626374936, throughput=473.777273952 images/sec\n",
      "test  mean loss=0.141085605285, accuracy=0.964187312717\n",
      "epoch 27\n",
      "train mean loss=0.0108356710816, accuracy=0.999313187468, throughput=679.722686712 images/sec\n",
      "test  mean loss=0.146113169899, accuracy=0.966942139237\n",
      "epoch 28\n",
      "train mean loss=0.00900648641566, accuracy=0.999313187468, throughput=754.349418214 images/sec\n",
      "test  mean loss=0.139458155465, accuracy=0.964187320927\n",
      "epoch 29\n",
      "train mean loss=0.00701536362732, accuracy=1.0, throughput=910.209334058 images/sec\n",
      "test  mean loss=0.157249014179, accuracy=0.966942139237\n",
      "epoch 30\n",
      "train mean loss=0.00656236591045, accuracy=1.0, throughput=952.602745478 images/sec\n",
      "test  mean loss=0.126229805164, accuracy=0.966942139237\n",
      "epoch 31\n",
      "train mean loss=0.00521093948999, accuracy=1.0, throughput=967.644438867 images/sec\n",
      "test  mean loss=0.154703814671, accuracy=0.969696965756\n",
      "epoch 32\n",
      "train mean loss=0.00419144404561, accuracy=1.0, throughput=894.433501507 images/sec\n",
      "test  mean loss=0.152119078965, accuracy=0.972451784066\n",
      "epoch 33\n",
      "train mean loss=0.00352301854934, accuracy=1.0, throughput=653.267782056 images/sec\n",
      "test  mean loss=0.167074671299, accuracy=0.969696965756\n",
      "epoch 34\n",
      "train mean loss=0.00309851426381, accuracy=1.0, throughput=734.920437238 images/sec\n",
      "test  mean loss=0.153943806451, accuracy=0.966942139237\n",
      "epoch 35\n",
      "train mean loss=0.00297498005934, accuracy=1.0, throughput=554.217405197 images/sec\n",
      "test  mean loss=0.156850178751, accuracy=0.966942139237\n",
      "epoch 36\n",
      "train mean loss=0.00280895784921, accuracy=1.0, throughput=685.454177748 images/sec\n",
      "test  mean loss=0.157621630329, accuracy=0.972451784066\n",
      "epoch 37\n",
      "train mean loss=0.00221543262232, accuracy=1.0, throughput=909.748720195 images/sec\n",
      "test  mean loss=0.169551691734, accuracy=0.972451784066\n",
      "epoch 38\n",
      "train mean loss=0.00206851285715, accuracy=1.0, throughput=826.614192805 images/sec\n",
      "test  mean loss=0.182387443994, accuracy=0.972451784066\n",
      "epoch 39\n",
      "train mean loss=0.00171463639748, accuracy=1.0, throughput=927.447023544 images/sec\n",
      "test  mean loss=0.183008130896, accuracy=0.972451784066\n",
      "epoch 40\n",
      "train mean loss=0.0015598356506, accuracy=1.0, throughput=707.192610158 images/sec\n",
      "test  mean loss=0.17773852446, accuracy=0.972451784066\n",
      "epoch 41\n",
      "train mean loss=0.00139688754128, accuracy=1.0, throughput=610.423785121 images/sec\n",
      "test  mean loss=0.180494802694, accuracy=0.972451784066\n",
      "epoch 42\n",
      "train mean loss=0.00133730804925, accuracy=1.0, throughput=508.909945562 images/sec\n",
      "test  mean loss=0.189331002278, accuracy=0.969696965756\n",
      "epoch 43\n",
      "train mean loss=0.00119277050921, accuracy=1.0, throughput=704.874108044 images/sec\n",
      "test  mean loss=0.185327380342, accuracy=0.972451784066\n",
      "epoch 44\n",
      "train mean loss=0.00105101624697, accuracy=1.0, throughput=853.458933701 images/sec\n",
      "test  mean loss=0.196701232016, accuracy=0.969696965756\n",
      "epoch 45\n",
      "train mean loss=0.000979023139315, accuracy=1.0, throughput=952.667537034 images/sec\n",
      "test  mean loss=0.212719611126, accuracy=0.966942139237\n",
      "epoch 46\n",
      "train mean loss=0.000925351893474, accuracy=1.0, throughput=752.674874362 images/sec\n",
      "test  mean loss=0.201081731483, accuracy=0.972451784066\n",
      "epoch 47\n",
      "train mean loss=0.00084227419123, accuracy=1.0, throughput=727.024723862 images/sec\n",
      "test  mean loss=0.201638974773, accuracy=0.972451784066\n",
      "epoch 48\n",
      "train mean loss=0.000802438119326, accuracy=1.0, throughput=652.693513333 images/sec\n",
      "test  mean loss=0.202227629352, accuracy=0.969696965756\n",
      "epoch 49\n",
      "train mean loss=0.000728891633176, accuracy=1.0, throughput=809.412741202 images/sec\n",
      "test  mean loss=0.199680649304, accuracy=0.972451784066\n",
      "epoch 50\n",
      "train mean loss=0.000667527958265, accuracy=1.0, throughput=992.994561617 images/sec\n",
      "test  mean loss=0.217697885945, accuracy=0.969696965756\n",
      "save the model\n",
      "save the optimizer\n"
     ]
    }
   ],
   "source": [
    "cnntrain.train(train_0_0_60, test_0_0_60)"
   ]
  },
  {
   "cell_type": "code",
   "execution_count": null,
   "metadata": {
    "collapsed": true
   },
   "outputs": [],
   "source": []
  }
 ],
 "metadata": {
  "celltoolbar": "Raw Cell Format",
  "kernelspec": {
   "display_name": "Python 2",
   "language": "python",
   "name": "python2"
  },
  "language_info": {
   "codemirror_mode": {
    "name": "ipython",
    "version": 2
   },
   "file_extension": ".py",
   "mimetype": "text/x-python",
   "name": "python",
   "nbconvert_exporter": "python",
   "pygments_lexer": "ipython2",
   "version": "2.7.11"
  }
 },
 "nbformat": 4,
 "nbformat_minor": 0
}
