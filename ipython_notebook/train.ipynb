{
 "cells": [
  {
   "cell_type": "code",
   "execution_count": 1,
   "metadata": {
    "collapsed": false
   },
   "outputs": [
    {
     "name": "stdout",
     "output_type": "stream",
     "text": [
      "Populating the interactive namespace from numpy and matplotlib\n"
     ]
    }
   ],
   "source": [
    "%pylab inline\n",
    "%load_ext autoreload\n",
    "%autoreload 2\n",
    "import numpy as np\n",
    "import matplotlib.pyplot as plt\n",
    "import pandas as pd\n",
    "import sys\n",
    "import os\n",
    "project_path = os.getcwd() + '/../'\n",
    "sys.path.append(project_path + \"utils\")\n",
    "\n",
    "from sklearn.metrics import precision_recall_curve\n",
    "from sklearn.metrics import auc\n",
    "from sklearn.metrics import roc_curve\n",
    "from sklearn.grid_search import GridSearchCV\n",
    "from sklearn.externals import joblib\n",
    "import sklearn"
   ]
  },
  {
   "cell_type": "code",
   "execution_count": 2,
   "metadata": {
    "collapsed": true
   },
   "outputs": [],
   "source": [
    "import seaborn as sns"
   ]
  },
  {
   "cell_type": "code",
   "execution_count": 3,
   "metadata": {
    "collapsed": false
   },
   "outputs": [],
   "source": [
    "import function\n",
    "import preprocessing\n",
    "import local_bayes\n",
    "import visualize"
   ]
  },
  {
   "cell_type": "code",
   "execution_count": 4,
   "metadata": {
    "collapsed": true
   },
   "outputs": [],
   "source": [
    "sys.path.append(project_path + \"models/cnn\")"
   ]
  },
  {
   "cell_type": "markdown",
   "metadata": {},
   "source": [
    "# data load"
   ]
  },
  {
   "cell_type": "code",
   "execution_count": 5,
   "metadata": {
    "collapsed": true
   },
   "outputs": [],
   "source": [
    "import data"
   ]
  },
  {
   "cell_type": "code",
   "execution_count": null,
   "metadata": {
    "collapsed": true
   },
   "outputs": [],
   "source": [
    "# mnist = data.load_mnist_data()"
   ]
  },
  {
   "cell_type": "code",
   "execution_count": 29,
   "metadata": {
    "collapsed": false
   },
   "outputs": [],
   "source": [
    "with open('../data/mnist/mnist.pkl', 'rb') as mnist_pickle:\n",
    "        mnist = six.moves.cPickle.load(mnist_pickle)\n",
    "mnist['data'] = mnist['data'].astype(np.float32)\n",
    "mnist['data'] /= 255\n",
    "mnist['target'] = mnist['target'].astype(np.int32)\n",
    "\n",
    "N = 60000\n",
    "train_x, test_x = np.split(mnist['data'],   [N])\n",
    "train_y, test_y = np.split(mnist['target'], [N])"
   ]
  },
  {
   "cell_type": "markdown",
   "metadata": {},
   "source": [
    "# model training"
   ]
  },
  {
   "cell_type": "code",
   "execution_count": 30,
   "metadata": {
    "collapsed": false
   },
   "outputs": [],
   "source": [
    "import cnn"
   ]
  },
  {
   "cell_type": "code",
   "execution_count": 36,
   "metadata": {
    "collapsed": false
   },
   "outputs": [],
   "source": [
    "epoch_num = 50\n",
    "save_model_dir = \"../models/cnn/results/epoch_num=%s/\" % epoch_num\n",
    "# os.mkdir(\"../models/cnn/results/epoch_num=%s/\" % epoch_num)\n",
    "cnntrain = cnn.CNN(save_model_dir=save_model_dir, epoch_num=epoch_num)"
   ]
  },
  {
   "cell_type": "code",
   "execution_count": 37,
   "metadata": {
    "collapsed": false
   },
   "outputs": [
    {
     "name": "stdout",
     "output_type": "stream",
     "text": [
      "epoch 1\n",
      "graph generated\n",
      "train mean loss=0.178378645349, accuracy=0.945366665615, throughput=891.704988322 images/sec\n",
      "test  mean loss=0.112957557511, accuracy=0.963300000727\n",
      "epoch 2\n",
      "train mean loss=0.0780738837686, accuracy=0.976083336075, throughput=860.803708004 images/sec\n",
      "test  mean loss=0.101764889181, accuracy=0.970700002611\n",
      "epoch 3\n",
      "train mean loss=0.0526664766306, accuracy=0.98331667006, throughput=840.248989359 images/sec\n",
      "test  mean loss=0.0818953051136, accuracy=0.976300001144\n",
      "epoch 4\n",
      "train mean loss=0.0388431906288, accuracy=0.987583337426, throughput=817.071666615 images/sec\n",
      "test  mean loss=0.0718544477734, accuracy=0.97970000267\n",
      "epoch 5\n",
      "train mean loss=0.0347873211372, accuracy=0.989316670299, throughput=797.933204743 images/sec\n",
      "test  mean loss=0.0787992710541, accuracy=0.981000002325\n",
      "epoch 6\n",
      "train mean loss=0.0282971177682, accuracy=0.991233337621, throughput=767.844219105 images/sec\n",
      "test  mean loss=0.0812741023799, accuracy=0.979000001848\n",
      "epoch 7\n",
      "train mean loss=0.0254131683913, accuracy=0.992133337508, throughput=746.289394327 images/sec\n",
      "test  mean loss=0.101059491139, accuracy=0.975200001597\n",
      "epoch 8\n",
      "train mean loss=0.0212205807853, accuracy=0.99360000362, throughput=729.181495262 images/sec\n",
      "test  mean loss=0.100476294339, accuracy=0.975800003409\n",
      "epoch 9\n",
      "train mean loss=0.0195623006015, accuracy=0.994016670336, throughput=37.6140545596 images/sec\n",
      "test  mean loss=0.103138233441, accuracy=0.976600000858\n",
      "epoch 10\n",
      "train mean loss=0.0176622391576, accuracy=0.994900002629, throughput=653.122309422 images/sec\n",
      "test  mean loss=0.118096137917, accuracy=0.977400002778\n",
      "epoch 11\n",
      "train mean loss=0.0152055342295, accuracy=0.995500002553, throughput=727.524698055 images/sec\n",
      "test  mean loss=0.130049478906, accuracy=0.977400001585\n",
      "epoch 12\n",
      "train mean loss=0.0167564905406, accuracy=0.994850003024, throughput=726.175762051 images/sec\n",
      "test  mean loss=0.103025312314, accuracy=0.98000000149\n",
      "epoch 13\n",
      "train mean loss=0.0159105679374, accuracy=0.99523333624, throughput=719.288417734 images/sec\n",
      "test  mean loss=0.0981798340162, accuracy=0.981500002742\n",
      "epoch 14\n",
      "train mean loss=0.0161590467346, accuracy=0.995583336502, throughput=708.153743048 images/sec\n",
      "test  mean loss=0.0964831383393, accuracy=0.98210000217\n",
      "epoch 15\n",
      "train mean loss=0.0122378407092, accuracy=0.996766669104, throughput=702.247216016 images/sec\n",
      "test  mean loss=0.0846742581413, accuracy=0.982300004065\n",
      "epoch 16\n",
      "train mean loss=0.0106784877969, accuracy=0.99730000178, throughput=690.748658317 images/sec\n",
      "test  mean loss=0.12577868223, accuracy=0.980600001514\n",
      "epoch 17\n",
      "train mean loss=0.0139969852316, accuracy=0.996583335499, throughput=689.609927826 images/sec\n",
      "test  mean loss=0.133495766542, accuracy=0.980000003576\n",
      "epoch 18\n",
      "train mean loss=0.0108678340987, accuracy=0.996950002462, throughput=679.34734062 images/sec\n",
      "test  mean loss=0.135544352167, accuracy=0.981500002146\n",
      "epoch 19\n",
      "train mean loss=0.0104046823592, accuracy=0.997250002027, throughput=663.763687334 images/sec\n",
      "test  mean loss=0.111228225549, accuracy=0.983100002706\n",
      "epoch 20\n",
      "train mean loss=0.0121626284946, accuracy=0.99683333536, throughput=654.905081441 images/sec\n",
      "test  mean loss=0.139368436546, accuracy=0.982300001085\n",
      "epoch 21\n",
      "train mean loss=0.0150214743859, accuracy=0.996716669053, throughput=649.623088841 images/sec\n",
      "test  mean loss=0.118091464282, accuracy=0.983300002813\n",
      "epoch 22\n",
      "train mean loss=0.00953407085717, accuracy=0.997750001947, throughput=646.553471951 images/sec\n",
      "test  mean loss=0.125045446491, accuracy=0.982900001705\n",
      "epoch 23\n",
      "train mean loss=0.010413698028, accuracy=0.997500001838, throughput=554.823865351 images/sec\n",
      "test  mean loss=0.173134642313, accuracy=0.97930000186\n",
      "epoch 24\n",
      "train mean loss=0.0106924190993, accuracy=0.997533335288, throughput=535.521555338 images/sec\n",
      "test  mean loss=0.157303781792, accuracy=0.980700002015\n",
      "epoch 25\n",
      "train mean loss=0.0116987977193, accuracy=0.99756666854, throughput=497.316900632 images/sec\n",
      "test  mean loss=0.138035986223, accuracy=0.983000003397\n",
      "epoch 26\n",
      "train mean loss=0.0104084526968, accuracy=0.997500001887, throughput=483.094895783 images/sec\n",
      "test  mean loss=0.164111199066, accuracy=0.982000001967\n",
      "epoch 27\n",
      "train mean loss=0.0106705581158, accuracy=0.99760000204, throughput=488.856475993 images/sec\n",
      "test  mean loss=0.158158749969, accuracy=0.98220000267\n",
      "epoch 28\n",
      "train mean loss=0.00718016425562, accuracy=0.998300001472, throughput=513.03933992 images/sec\n",
      "test  mean loss=0.136094824989, accuracy=0.985400002897\n",
      "epoch 29\n",
      "train mean loss=0.0110971095252, accuracy=0.997816668351, throughput=537.44665811 images/sec\n",
      "test  mean loss=0.1696946129, accuracy=0.981100000441\n",
      "epoch 30\n",
      "train mean loss=0.0131349431366, accuracy=0.997250002076, throughput=561.323570175 images/sec\n",
      "test  mean loss=0.132465300393, accuracy=0.986100002825\n",
      "epoch 31\n",
      "train mean loss=0.0109954490982, accuracy=0.997650001546, throughput=566.992984308 images/sec\n",
      "test  mean loss=0.175518968867, accuracy=0.982000001073\n",
      "epoch 32\n",
      "train mean loss=0.0113933968369, accuracy=0.998183334817, throughput=572.500477703 images/sec\n",
      "test  mean loss=0.148869868164, accuracy=0.983400002122\n",
      "epoch 33\n",
      "train mean loss=0.00703531310054, accuracy=0.998600001186, throughput=563.709010818 images/sec\n",
      "test  mean loss=0.158249439974, accuracy=0.983100002706\n",
      "epoch 34\n",
      "train mean loss=0.00861697548067, accuracy=0.998283334821, throughput=546.505685399 images/sec\n",
      "test  mean loss=0.188239771382, accuracy=0.981300002933\n",
      "epoch 35\n",
      "train mean loss=0.00793832126707, accuracy=0.998366668026, throughput=538.250073465 images/sec\n",
      "test  mean loss=0.210188251402, accuracy=0.981500003636\n",
      "epoch 36\n",
      "train mean loss=0.0144505429423, accuracy=0.997483335137, throughput=538.771495546 images/sec\n",
      "test  mean loss=0.167844292241, accuracy=0.983800003231\n",
      "epoch 37\n",
      "train mean loss=0.0103006199456, accuracy=0.998116668165, throughput=540.837851202 images/sec\n",
      "test  mean loss=0.161775853052, accuracy=0.983700002432\n",
      "epoch 38\n",
      "train mean loss=0.00822294085532, accuracy=0.99846666793, throughput=540.008145627 images/sec\n",
      "test  mean loss=0.180936741024, accuracy=0.983000002205\n",
      "epoch 39\n",
      "train mean loss=0.0113741156613, accuracy=0.998316668024, throughput=529.294034306 images/sec\n",
      "test  mean loss=0.21497947464, accuracy=0.981100001931\n",
      "epoch 40\n",
      "train mean loss=0.00728480466449, accuracy=0.998616667837, throughput=529.702072747 images/sec\n",
      "test  mean loss=0.187161506519, accuracy=0.982000003457\n",
      "epoch 41\n",
      "train mean loss=0.011988362004, accuracy=0.997966668357, throughput=527.514010834 images/sec\n",
      "test  mean loss=0.197553919409, accuracy=0.982600001991\n",
      "epoch 42\n",
      "train mean loss=0.00831847630894, accuracy=0.998450001329, throughput=513.836825522 images/sec\n",
      "test  mean loss=0.206120728728, accuracy=0.98160000205\n",
      "epoch 43\n",
      "train mean loss=0.00864719188815, accuracy=0.998600001186, throughput=511.006118467 images/sec\n",
      "test  mean loss=0.186448313122, accuracy=0.983700002134\n",
      "epoch 44\n",
      "train mean loss=0.00754546126181, accuracy=0.998533334732, throughput=503.865674438 images/sec\n",
      "test  mean loss=0.190398911917, accuracy=0.983900002837\n",
      "epoch 45\n",
      "train mean loss=0.00763749394373, accuracy=0.998566667736, throughput=503.796476123 images/sec\n",
      "test  mean loss=0.231312236999, accuracy=0.982400001585\n",
      "epoch 46\n",
      "train mean loss=0.00803541628529, accuracy=0.998583334386, throughput=496.47339653 images/sec\n",
      "test  mean loss=0.240404117698, accuracy=0.982400000691\n",
      "epoch 47\n",
      "train mean loss=0.00729051677952, accuracy=0.998633334289, throughput=482.682494559 images/sec\n",
      "test  mean loss=0.255294215483, accuracy=0.982900002003\n",
      "epoch 48\n",
      "train mean loss=0.00886296204786, accuracy=0.998500001132, throughput=491.961516244 images/sec\n",
      "test  mean loss=0.253837515724, accuracy=0.981700001955\n",
      "epoch 49\n",
      "train mean loss=0.00988346982095, accuracy=0.998383334776, throughput=486.060749829 images/sec\n",
      "test  mean loss=0.23407868356, accuracy=0.982600003183\n",
      "epoch 50\n",
      "train mean loss=0.0117043185107, accuracy=0.998333334823, throughput=486.765061169 images/sec\n",
      "test  mean loss=0.33532383082, accuracy=0.979000002146\n",
      "save the model\n",
      "save the optimizer\n"
     ]
    }
   ],
   "source": [
    "cnntrain.train(x_train, y_train, x_test, y_test)"
   ]
  },
  {
   "cell_type": "code",
   "execution_count": 35,
   "metadata": {
    "collapsed": false
   },
   "outputs": [
    {
     "ename": "IOError",
     "evalue": "[Errno 2] No such file or directory: '../data/bookmark/ajax_30/0_test/0_fold/0_train.npz'",
     "output_type": "error",
     "traceback": [
      "\u001b[0;31m---------------------------------------------------------------------------\u001b[0m",
      "\u001b[0;31mIOError\u001b[0m                                   Traceback (most recent call last)",
      "\u001b[0;32m<ipython-input-35-4be81518caf5>\u001b[0m in \u001b[0;36m<module>\u001b[0;34m()\u001b[0m\n\u001b[1;32m      3\u001b[0m \u001b[0msave_model_dir\u001b[0m \u001b[0;34m=\u001b[0m \u001b[0;34m\"../models/cnn/results/ajax_%s_30/\"\u001b[0m \u001b[0;34m%\u001b[0m \u001b[0mepoch_num\u001b[0m\u001b[0;34m\u001b[0m\u001b[0m\n\u001b[1;32m      4\u001b[0m \u001b[0mos\u001b[0m\u001b[0;34m.\u001b[0m\u001b[0mmkdir\u001b[0m\u001b[0;34m(\u001b[0m\u001b[0;34m\"../models/cnn/results/ajax_%s_30\"\u001b[0m \u001b[0;34m%\u001b[0m \u001b[0mepoch_num\u001b[0m\u001b[0;34m)\u001b[0m\u001b[0;34m\u001b[0m\u001b[0m\n\u001b[0;32m----> 5\u001b[0;31m \u001b[0mtrain_0_0_30\u001b[0m \u001b[0;34m=\u001b[0m \u001b[0mnumpy\u001b[0m\u001b[0;34m.\u001b[0m\u001b[0mload\u001b[0m\u001b[0;34m(\u001b[0m\u001b[0msave_data_dir\u001b[0m \u001b[0;34m+\u001b[0m \u001b[0;34m'0_test/0_fold/0_train.npz'\u001b[0m\u001b[0;34m)\u001b[0m\u001b[0;34m\u001b[0m\u001b[0m\n\u001b[0m\u001b[1;32m      6\u001b[0m \u001b[0mtest_0_0_30\u001b[0m \u001b[0;34m=\u001b[0m \u001b[0mnumpy\u001b[0m\u001b[0;34m.\u001b[0m\u001b[0mload\u001b[0m\u001b[0;34m(\u001b[0m\u001b[0msave_data_dir\u001b[0m \u001b[0;34m+\u001b[0m \u001b[0;34m'0_test/0_fold/0_test.npz'\u001b[0m\u001b[0;34m)\u001b[0m\u001b[0;34m\u001b[0m\u001b[0m\n\u001b[1;32m      7\u001b[0m \u001b[0mcnntrain\u001b[0m \u001b[0;34m=\u001b[0m \u001b[0mcnn\u001b[0m\u001b[0;34m.\u001b[0m\u001b[0mCNN\u001b[0m\u001b[0;34m(\u001b[0m\u001b[0msave_model_dir\u001b[0m\u001b[0;34m=\u001b[0m\u001b[0msave_model_dir\u001b[0m\u001b[0;34m,\u001b[0m \u001b[0mepoch_num\u001b[0m\u001b[0;34m=\u001b[0m\u001b[0mepoch_num\u001b[0m\u001b[0;34m)\u001b[0m\u001b[0;34m\u001b[0m\u001b[0m\n",
      "\u001b[0;32m/Users/admin/Desktop/anaconda/lib/python2.7/site-packages/numpy/lib/npyio.pyc\u001b[0m in \u001b[0;36mload\u001b[0;34m(file, mmap_mode, allow_pickle, fix_imports, encoding)\u001b[0m\n\u001b[1;32m    360\u001b[0m     \u001b[0mown_fid\u001b[0m \u001b[0;34m=\u001b[0m \u001b[0mFalse\u001b[0m\u001b[0;34m\u001b[0m\u001b[0m\n\u001b[1;32m    361\u001b[0m     \u001b[0;32mif\u001b[0m \u001b[0misinstance\u001b[0m\u001b[0;34m(\u001b[0m\u001b[0mfile\u001b[0m\u001b[0;34m,\u001b[0m \u001b[0mbasestring\u001b[0m\u001b[0;34m)\u001b[0m\u001b[0;34m:\u001b[0m\u001b[0;34m\u001b[0m\u001b[0m\n\u001b[0;32m--> 362\u001b[0;31m         \u001b[0mfid\u001b[0m \u001b[0;34m=\u001b[0m \u001b[0mopen\u001b[0m\u001b[0;34m(\u001b[0m\u001b[0mfile\u001b[0m\u001b[0;34m,\u001b[0m \u001b[0;34m\"rb\"\u001b[0m\u001b[0;34m)\u001b[0m\u001b[0;34m\u001b[0m\u001b[0m\n\u001b[0m\u001b[1;32m    363\u001b[0m         \u001b[0mown_fid\u001b[0m \u001b[0;34m=\u001b[0m \u001b[0mTrue\u001b[0m\u001b[0;34m\u001b[0m\u001b[0m\n\u001b[1;32m    364\u001b[0m     \u001b[0;32melse\u001b[0m\u001b[0;34m:\u001b[0m\u001b[0;34m\u001b[0m\u001b[0m\n",
      "\u001b[0;31mIOError\u001b[0m: [Errno 2] No such file or directory: '../data/bookmark/ajax_30/0_test/0_fold/0_train.npz'"
     ]
    }
   ],
   "source": [
    "epoch_num = 50\n",
    "save_data_dir = '../data/bookmark/ajax_30/'\n",
    "save_model_dir = \"../models/cnn/results/ajax_%s_30/\" % epoch_num\n",
    "os.mkdir(\"../models/cnn/results/ajax_%s_30\" % epoch_num)\n",
    "train_0_0_30 = numpy.load(save_data_dir + '0_test/0_fold/0_train.npz')\n",
    "test_0_0_30 = numpy.load(save_data_dir + '0_test/0_fold/0_test.npz')\n",
    "cnntrain = cnn.CNN(save_model_dir=save_model_dir, epoch_num=epoch_num)"
   ]
  },
  {
   "cell_type": "code",
   "execution_count": 57,
   "metadata": {
    "collapsed": false
   },
   "outputs": [
    {
     "data": {
      "text/plain": [
       "(2168, 30)"
      ]
     },
     "execution_count": 57,
     "metadata": {},
     "output_type": "execute_result"
    }
   ],
   "source": [
    "train_0_0_30['x'].shape"
   ]
  },
  {
   "cell_type": "code",
   "execution_count": 58,
   "metadata": {
    "collapsed": false
   },
   "outputs": [
    {
     "name": "stdout",
     "output_type": "stream",
     "text": [
      "epoch 1\n",
      "graph generated\n",
      "train mean loss=0.856766545025, accuracy=0.749077491297, throughput=915.436561686 images/sec\n",
      "test  mean loss=0.770515868255, accuracy=0.769372691967\n",
      "epoch 2\n",
      "train mean loss=0.513243945982, accuracy=0.783671582042, throughput=951.976112163 images/sec\n",
      "test  mean loss=0.517006267701, accuracy=0.7822878176\n",
      "epoch 3\n",
      "train mean loss=0.412609556917, accuracy=0.818265679633, throughput=1027.25791076 images/sec\n",
      "test  mean loss=0.451953402415, accuracy=0.789667895359\n",
      "epoch 4\n",
      "train mean loss=0.374739015839, accuracy=0.839022137032, throughput=1065.5489713 images/sec\n",
      "test  mean loss=0.436411118925, accuracy=0.813653138291\n",
      "epoch 5\n",
      "train mean loss=0.350621334466, accuracy=0.845479698474, throughput=1073.68401146 images/sec\n",
      "test  mean loss=0.52345504488, accuracy=0.789667890521\n",
      "epoch 6\n",
      "train mean loss=0.344226040468, accuracy=0.855166042038, throughput=1046.9965709 images/sec\n",
      "test  mean loss=0.429894789449, accuracy=0.800738004301\n",
      "epoch 7\n",
      "train mean loss=0.33875343829, accuracy=0.862084867385, throughput=1015.72357354 images/sec\n",
      "test  mean loss=0.412158502644, accuracy=0.821033207253\n",
      "epoch 8\n",
      "train mean loss=0.387984358503, accuracy=0.85839482867, throughput=918.100958835 images/sec\n",
      "test  mean loss=0.47232382093, accuracy=0.80442804604\n",
      "epoch 9\n",
      "train mean loss=0.378557457145, accuracy=0.851937265579, throughput=885.715734301 images/sec\n",
      "test  mean loss=0.444306295406, accuracy=0.824723232936\n",
      "epoch 10\n",
      "train mean loss=0.283775664619, accuracy=0.880535054361, throughput=942.945645605 images/sec\n",
      "test  mean loss=0.417758366169, accuracy=0.837638371105\n",
      "epoch 11\n",
      "train mean loss=0.259280933322, accuracy=0.89391143653, throughput=926.464515443 images/sec\n",
      "test  mean loss=0.358241843341, accuracy=0.841328402947\n",
      "epoch 12\n",
      "train mean loss=0.234868569169, accuracy=0.900830253794, throughput=1028.61968683 images/sec\n",
      "test  mean loss=0.507463369862, accuracy=0.837638376604\n",
      "epoch 13\n",
      "train mean loss=0.25201322218, accuracy=0.901291513465, throughput=1035.25449981 images/sec\n",
      "test  mean loss=0.391271840107, accuracy=0.856088552968\n",
      "epoch 14\n",
      "train mean loss=0.201800770137, accuracy=0.929889297023, throughput=1076.82464182 images/sec\n",
      "test  mean loss=0.338744929906, accuracy=0.872693719019\n",
      "epoch 15\n",
      "train mean loss=0.175959330506, accuracy=0.940959408714, throughput=1017.18131794 images/sec\n",
      "test  mean loss=0.379644148189, accuracy=0.872693719019\n",
      "epoch 16\n",
      "train mean loss=0.144071818058, accuracy=0.952952035899, throughput=1028.9198577 images/sec\n",
      "test  mean loss=0.27301567386, accuracy=0.89298892791\n",
      "epoch 17\n",
      "train mean loss=0.121375391658, accuracy=0.96263837149, throughput=1044.11131644 images/sec\n",
      "test  mean loss=0.313754887983, accuracy=0.900368998631\n",
      "epoch 18\n",
      "train mean loss=0.135598186823, accuracy=0.955719560275, throughput=1001.26363756 images/sec\n",
      "test  mean loss=0.301678438468, accuracy=0.876383757899\n",
      "epoch 19\n",
      "train mean loss=0.342763503409, accuracy=0.913745385034, throughput=944.463591794 images/sec\n",
      "test  mean loss=0.634856480404, accuracy=0.822878226583\n",
      "epoch 20\n",
      "train mean loss=0.27548169368, accuracy=0.911900367794, throughput=1038.27051858 images/sec\n",
      "test  mean loss=0.382006929809, accuracy=0.857933571858\n",
      "epoch 21\n",
      "train mean loss=0.14307171793, accuracy=0.959409592281, throughput=1036.37493193 images/sec\n",
      "test  mean loss=0.369163039701, accuracy=0.900369000171\n",
      "epoch 22\n",
      "train mean loss=0.109372299457, accuracy=0.970940962379, throughput=1022.27413143 images/sec\n",
      "test  mean loss=0.291186727913, accuracy=0.898523972483\n",
      "epoch 23\n",
      "train mean loss=0.0816742836333, accuracy=0.979704798533, throughput=1015.85678971 images/sec\n",
      "test  mean loss=0.299775170747, accuracy=0.894833937562\n",
      "epoch 24\n",
      "train mean loss=0.0620220541332, accuracy=0.984317348507, throughput=1005.11364357 images/sec\n",
      "test  mean loss=0.291162105339, accuracy=0.902214026319\n",
      "epoch 25\n",
      "train mean loss=0.0488085893904, accuracy=0.988929893698, throughput=1000.26301934 images/sec\n",
      "test  mean loss=0.285996560598, accuracy=0.905904055741\n",
      "epoch 26\n",
      "train mean loss=0.0387496368657, accuracy=0.993542440208, throughput=950.269561866 images/sec\n",
      "test  mean loss=0.252274867986, accuracy=0.911439111312\n",
      "epoch 27\n",
      "train mean loss=0.0329400523268, accuracy=0.994464947179, throughput=1024.49239533 images/sec\n",
      "test  mean loss=0.317164113821, accuracy=0.902214015322\n",
      "epoch 28\n",
      "train mean loss=0.0288214053936, accuracy=0.994926202726, throughput=1013.755848 images/sec\n",
      "test  mean loss=0.256769498075, accuracy=0.915129153491\n",
      "epoch 29\n",
      "train mean loss=0.0227315102169, accuracy=0.998154983309, throughput=983.747259772 images/sec\n",
      "test  mean loss=0.289320497152, accuracy=0.907749076391\n",
      "epoch 30\n",
      "train mean loss=0.0191104069792, accuracy=0.998154983309, throughput=1016.01399341 images/sec\n",
      "test  mean loss=0.265746846781, accuracy=0.909594087583\n",
      "epoch 31\n",
      "train mean loss=0.0155825323216, accuracy=0.999077491655, throughput=982.206605284 images/sec\n",
      "test  mean loss=0.290145035201, accuracy=0.911439109772\n",
      "epoch 32\n",
      "train mean loss=0.0126362345684, accuracy=0.999538745827, throughput=980.556665617 images/sec\n",
      "test  mean loss=0.324494488194, accuracy=0.909594086923\n",
      "epoch 33\n",
      "train mean loss=0.0114416033876, accuracy=0.999538745827, throughput=1028.83929834 images/sec\n",
      "test  mean loss=0.357428561992, accuracy=0.907749070233\n",
      "epoch 34\n",
      "train mean loss=0.0091096583908, accuracy=1.0, throughput=992.904100647 images/sec\n",
      "test  mean loss=0.344467441026, accuracy=0.909594086923\n",
      "epoch 35\n",
      "train mean loss=0.00825626837202, accuracy=1.0, throughput=967.216805133 images/sec\n",
      "test  mean loss=0.392575225308, accuracy=0.905904053542\n",
      "epoch 36\n",
      "train mean loss=0.00661120377288, accuracy=1.0, throughput=930.58868645 images/sec\n",
      "test  mean loss=0.422458030118, accuracy=0.907749070233\n",
      "epoch 37\n",
      "train mean loss=0.0060423160712, accuracy=1.0, throughput=652.488480735 images/sec\n",
      "test  mean loss=0.438835909061, accuracy=0.905904059041\n",
      "epoch 38\n",
      "train mean loss=0.00505457540561, accuracy=1.0, throughput=644.050816352 images/sec\n",
      "test  mean loss=0.426733645662, accuracy=0.907749070233\n",
      "epoch 39\n",
      "train mean loss=0.00428407505838, accuracy=1.0, throughput=706.346046253 images/sec\n",
      "test  mean loss=0.477386939432, accuracy=0.905904053542\n",
      "epoch 40\n",
      "train mean loss=0.0038393277191, accuracy=1.0, throughput=717.611357849 images/sec\n",
      "test  mean loss=0.460033811313, accuracy=0.907749070233\n",
      "epoch 41\n",
      "train mean loss=0.0034862875259, accuracy=1.0, throughput=869.202294677 images/sec\n",
      "test  mean loss=0.463948878154, accuracy=0.907749070233\n",
      "epoch 42\n",
      "train mean loss=0.00308880806063, accuracy=1.0, throughput=878.113951767 images/sec\n",
      "test  mean loss=0.447139227055, accuracy=0.905904048043\n",
      "epoch 43\n",
      "train mean loss=0.00275458988705, accuracy=1.0, throughput=911.598085867 images/sec\n",
      "test  mean loss=0.489619941069, accuracy=0.904059031353\n",
      "epoch 44\n",
      "train mean loss=0.00254727452812, accuracy=1.0, throughput=896.075113322 images/sec\n",
      "test  mean loss=0.528863804559, accuracy=0.905904053542\n",
      "epoch 45\n",
      "train mean loss=0.00227512874887, accuracy=1.0, throughput=831.225867715 images/sec\n",
      "test  mean loss=0.531628537208, accuracy=0.905904053542\n",
      "epoch 46\n",
      "train mean loss=0.00208247544839, accuracy=1.0, throughput=856.198826231 images/sec\n",
      "test  mean loss=0.482948404946, accuracy=0.904059031353\n",
      "epoch 47\n",
      "train mean loss=0.00194871290312, accuracy=1.0, throughput=860.675672987 images/sec\n",
      "test  mean loss=0.51363399897, accuracy=0.904059031353\n",
      "epoch 48\n",
      "train mean loss=0.00174419981928, accuracy=1.0, throughput=796.549264112 images/sec\n",
      "test  mean loss=0.476890806315, accuracy=0.904059031353\n",
      "epoch 49\n",
      "train mean loss=0.00161807563649, accuracy=1.0, throughput=773.248457096 images/sec\n",
      "test  mean loss=0.544759903419, accuracy=0.905904053542\n",
      "epoch 50\n",
      "train mean loss=0.00146194438603, accuracy=1.0, throughput=784.021328792 images/sec\n",
      "test  mean loss=0.538385951775, accuracy=0.905904053542\n",
      "save the model\n",
      "save the optimizer\n"
     ]
    }
   ],
   "source": [
    "cnntrain.train(train_0_0_30, test_0_0_30)"
   ]
  },
  {
   "cell_type": "code",
   "execution_count": 59,
   "metadata": {
    "collapsed": true
   },
   "outputs": [],
   "source": [
    "epoch_num = 50\n",
    "save_data_dir = '../data/bookmark/ajax_60/'\n",
    "save_model_dir = \"../models/cnn/results/ajax_%s_60/\" % epoch_num\n",
    "os.mkdir(\"../models/cnn/results/ajax_%s_60\" % epoch_num)\n",
    "train_0_0_60 = numpy.load(save_data_dir + '0_test/0_fold/0_train.npz')\n",
    "test_0_0_60 = numpy.load(save_data_dir + '0_test/0_fold/0_test.npz')\n",
    "cnntrain = cnn.CNN(save_model_dir=save_model_dir, epoch_num=epoch_num)"
   ]
  },
  {
   "cell_type": "code",
   "execution_count": 60,
   "metadata": {
    "collapsed": false
   },
   "outputs": [
    {
     "data": {
      "text/plain": [
       "(1456, 30)"
      ]
     },
     "execution_count": 60,
     "metadata": {},
     "output_type": "execute_result"
    }
   ],
   "source": [
    "train_0_0_60['x'].shape"
   ]
  },
  {
   "cell_type": "code",
   "execution_count": 61,
   "metadata": {
    "collapsed": false
   },
   "outputs": [
    {
     "name": "stdout",
     "output_type": "stream",
     "text": [
      "epoch 1\n",
      "graph generated\n",
      "train mean loss=0.756237555234, accuracy=0.770604389505, throughput=414.482740029 images/sec\n",
      "test  mean loss=0.714041425916, accuracy=0.834710748728\n",
      "epoch 2\n",
      "train mean loss=0.495513381518, accuracy=0.840659337139, throughput=712.392200358 images/sec\n",
      "test  mean loss=0.427742324174, accuracy=0.867768587324\n",
      "epoch 3\n",
      "train mean loss=0.323671543909, accuracy=0.870879124563, throughput=818.748929825 images/sec\n",
      "test  mean loss=0.292671098484, accuracy=0.895316805721\n",
      "epoch 4\n",
      "train mean loss=0.295001422024, accuracy=0.886675816889, throughput=917.035975479 images/sec\n",
      "test  mean loss=0.380116275981, accuracy=0.887052334373\n",
      "epoch 5\n",
      "train mean loss=0.34921425846, accuracy=0.860576918901, throughput=952.15286567 images/sec\n",
      "test  mean loss=0.473161475687, accuracy=0.878787879445\n",
      "epoch 6\n",
      "train mean loss=0.262986373893, accuracy=0.901098895122, throughput=911.876287539 images/sec\n",
      "test  mean loss=0.245746021572, accuracy=0.925619831755\n",
      "epoch 7\n",
      "train mean loss=0.208810764692, accuracy=0.916895602594, throughput=920.388372154 images/sec\n",
      "test  mean loss=0.393923745586, accuracy=0.914600550307\n",
      "epoch 8\n",
      "train mean loss=0.202058797293, accuracy=0.92857142022, throughput=963.477784216 images/sec\n",
      "test  mean loss=0.198863292693, accuracy=0.925619823545\n",
      "epoch 9\n",
      "train mean loss=0.168729668944, accuracy=0.932692302289, throughput=975.143850528 images/sec\n",
      "test  mean loss=0.240055524552, accuracy=0.911845731998\n",
      "epoch 10\n",
      "train mean loss=0.151593146252, accuracy=0.942307694109, throughput=1070.48904305 images/sec\n",
      "test  mean loss=0.17281879302, accuracy=0.944903568131\n",
      "epoch 11\n",
      "train mean loss=0.130145330402, accuracy=0.953983515337, throughput=1046.46115663 images/sec\n",
      "test  mean loss=0.175777991818, accuracy=0.928374658275\n",
      "epoch 12\n",
      "train mean loss=0.118384300639, accuracy=0.961538463422, throughput=1029.36310728 images/sec\n",
      "test  mean loss=0.182373861123, accuracy=0.920110195136\n",
      "epoch 13\n",
      "train mean loss=0.100783387782, accuracy=0.971153849101, throughput=974.889798254 images/sec\n",
      "test  mean loss=0.1860716614, accuracy=0.939393931512\n",
      "epoch 14\n",
      "train mean loss=0.129506698886, accuracy=0.958791211247, throughput=1013.43079765 images/sec\n",
      "test  mean loss=0.28037803031, accuracy=0.906336078959\n",
      "epoch 15\n",
      "train mean loss=0.106737403823, accuracy=0.964285709455, throughput=1032.91712536 images/sec\n",
      "test  mean loss=0.177208198604, accuracy=0.933884286683\n",
      "epoch 16\n",
      "train mean loss=0.465071683059, accuracy=0.937499994105, throughput=1024.84049013 images/sec\n",
      "test  mean loss=0.348406366162, accuracy=0.909090905479\n",
      "epoch 17\n",
      "train mean loss=0.154234437078, accuracy=0.949862631959, throughput=998.054625654 images/sec\n",
      "test  mean loss=0.244824408813, accuracy=0.933884294893\n",
      "epoch 18\n",
      "train mean loss=0.0919199078804, accuracy=0.971840667774, throughput=1010.88361451 images/sec\n",
      "test  mean loss=0.134991908415, accuracy=0.955922865999\n",
      "epoch 19\n",
      "train mean loss=0.0626379916787, accuracy=0.984203299487, throughput=877.400244159 images/sec\n",
      "test  mean loss=0.143783038231, accuracy=0.95316803948\n",
      "epoch 20\n",
      "train mean loss=0.053088265223, accuracy=0.990384620461, throughput=1028.20053972 images/sec\n",
      "test  mean loss=0.129740971469, accuracy=0.966942147447\n",
      "epoch 21\n",
      "train mean loss=0.0422168587882, accuracy=0.992445059366, throughput=1039.38748624 images/sec\n",
      "test  mean loss=0.144000704836, accuracy=0.95316804769\n",
      "epoch 22\n",
      "train mean loss=0.0364752660331, accuracy=0.994505497699, throughput=1000.52306252 images/sec\n",
      "test  mean loss=0.19244313278, accuracy=0.958677676098\n",
      "epoch 23\n",
      "train mean loss=0.0273363365201, accuracy=0.997252747826, throughput=1037.79233266 images/sec\n",
      "test  mean loss=0.205031831736, accuracy=0.95316804769\n",
      "epoch 24\n",
      "train mean loss=0.0289057928264, accuracy=0.995192312277, throughput=1004.8987918 images/sec\n",
      "test  mean loss=0.131666818933, accuracy=0.961432502618\n",
      "epoch 25\n",
      "train mean loss=0.0226700258234, accuracy=0.996565937341, throughput=668.052670966 images/sec\n",
      "test  mean loss=0.143265300921, accuracy=0.961432494408\n",
      "epoch 26\n",
      "train mean loss=0.0153238304889, accuracy=0.998626374936, throughput=473.777273952 images/sec\n",
      "test  mean loss=0.141085605285, accuracy=0.964187312717\n",
      "epoch 27\n",
      "train mean loss=0.0108356710816, accuracy=0.999313187468, throughput=679.722686712 images/sec\n",
      "test  mean loss=0.146113169899, accuracy=0.966942139237\n",
      "epoch 28\n",
      "train mean loss=0.00900648641566, accuracy=0.999313187468, throughput=754.349418214 images/sec\n",
      "test  mean loss=0.139458155465, accuracy=0.964187320927\n",
      "epoch 29\n",
      "train mean loss=0.00701536362732, accuracy=1.0, throughput=910.209334058 images/sec\n",
      "test  mean loss=0.157249014179, accuracy=0.966942139237\n",
      "epoch 30\n",
      "train mean loss=0.00656236591045, accuracy=1.0, throughput=952.602745478 images/sec\n",
      "test  mean loss=0.126229805164, accuracy=0.966942139237\n",
      "epoch 31\n",
      "train mean loss=0.00521093948999, accuracy=1.0, throughput=967.644438867 images/sec\n",
      "test  mean loss=0.154703814671, accuracy=0.969696965756\n",
      "epoch 32\n",
      "train mean loss=0.00419144404561, accuracy=1.0, throughput=894.433501507 images/sec\n",
      "test  mean loss=0.152119078965, accuracy=0.972451784066\n",
      "epoch 33\n",
      "train mean loss=0.00352301854934, accuracy=1.0, throughput=653.267782056 images/sec\n",
      "test  mean loss=0.167074671299, accuracy=0.969696965756\n",
      "epoch 34\n",
      "train mean loss=0.00309851426381, accuracy=1.0, throughput=734.920437238 images/sec\n",
      "test  mean loss=0.153943806451, accuracy=0.966942139237\n",
      "epoch 35\n",
      "train mean loss=0.00297498005934, accuracy=1.0, throughput=554.217405197 images/sec\n",
      "test  mean loss=0.156850178751, accuracy=0.966942139237\n",
      "epoch 36\n",
      "train mean loss=0.00280895784921, accuracy=1.0, throughput=685.454177748 images/sec\n",
      "test  mean loss=0.157621630329, accuracy=0.972451784066\n",
      "epoch 37\n",
      "train mean loss=0.00221543262232, accuracy=1.0, throughput=909.748720195 images/sec\n",
      "test  mean loss=0.169551691734, accuracy=0.972451784066\n",
      "epoch 38\n",
      "train mean loss=0.00206851285715, accuracy=1.0, throughput=826.614192805 images/sec\n",
      "test  mean loss=0.182387443994, accuracy=0.972451784066\n",
      "epoch 39\n",
      "train mean loss=0.00171463639748, accuracy=1.0, throughput=927.447023544 images/sec\n",
      "test  mean loss=0.183008130896, accuracy=0.972451784066\n",
      "epoch 40\n",
      "train mean loss=0.0015598356506, accuracy=1.0, throughput=707.192610158 images/sec\n",
      "test  mean loss=0.17773852446, accuracy=0.972451784066\n",
      "epoch 41\n",
      "train mean loss=0.00139688754128, accuracy=1.0, throughput=610.423785121 images/sec\n",
      "test  mean loss=0.180494802694, accuracy=0.972451784066\n",
      "epoch 42\n",
      "train mean loss=0.00133730804925, accuracy=1.0, throughput=508.909945562 images/sec\n",
      "test  mean loss=0.189331002278, accuracy=0.969696965756\n",
      "epoch 43\n",
      "train mean loss=0.00119277050921, accuracy=1.0, throughput=704.874108044 images/sec\n",
      "test  mean loss=0.185327380342, accuracy=0.972451784066\n",
      "epoch 44\n",
      "train mean loss=0.00105101624697, accuracy=1.0, throughput=853.458933701 images/sec\n",
      "test  mean loss=0.196701232016, accuracy=0.969696965756\n",
      "epoch 45\n",
      "train mean loss=0.000979023139315, accuracy=1.0, throughput=952.667537034 images/sec\n",
      "test  mean loss=0.212719611126, accuracy=0.966942139237\n",
      "epoch 46\n",
      "train mean loss=0.000925351893474, accuracy=1.0, throughput=752.674874362 images/sec\n",
      "test  mean loss=0.201081731483, accuracy=0.972451784066\n",
      "epoch 47\n",
      "train mean loss=0.00084227419123, accuracy=1.0, throughput=727.024723862 images/sec\n",
      "test  mean loss=0.201638974773, accuracy=0.972451784066\n",
      "epoch 48\n",
      "train mean loss=0.000802438119326, accuracy=1.0, throughput=652.693513333 images/sec\n",
      "test  mean loss=0.202227629352, accuracy=0.969696965756\n",
      "epoch 49\n",
      "train mean loss=0.000728891633176, accuracy=1.0, throughput=809.412741202 images/sec\n",
      "test  mean loss=0.199680649304, accuracy=0.972451784066\n",
      "epoch 50\n",
      "train mean loss=0.000667527958265, accuracy=1.0, throughput=992.994561617 images/sec\n",
      "test  mean loss=0.217697885945, accuracy=0.969696965756\n",
      "save the model\n",
      "save the optimizer\n"
     ]
    }
   ],
   "source": [
    "cnntrain.train(train_0_0_60, test_0_0_60)"
   ]
  },
  {
   "cell_type": "code",
   "execution_count": null,
   "metadata": {
    "collapsed": true
   },
   "outputs": [],
   "source": []
  }
 ],
 "metadata": {
  "celltoolbar": "Raw Cell Format",
  "kernelspec": {
   "display_name": "Python 2",
   "language": "python",
   "name": "python2"
  },
  "language_info": {
   "codemirror_mode": {
    "name": "ipython",
    "version": 2
   },
   "file_extension": ".py",
   "mimetype": "text/x-python",
   "name": "python",
   "nbconvert_exporter": "python",
   "pygments_lexer": "ipython2",
   "version": "2.7.11"
  }
 },
 "nbformat": 4,
 "nbformat_minor": 0
}
